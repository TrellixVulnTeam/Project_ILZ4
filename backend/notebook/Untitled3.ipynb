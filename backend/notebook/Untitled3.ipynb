{
 "cells": [
  {
   "cell_type": "code",
   "execution_count": 2,
   "metadata": {},
   "outputs": [],
   "source": [
    "import os\n",
    "\n",
    "import pandas as pd\n",
    "import librosa\n",
    "import glob\n",
    "import soundfile\n",
    "import torch"
   ]
  },
  {
   "cell_type": "code",
   "execution_count": 5,
   "metadata": {},
   "outputs": [],
   "source": [
    "train_dir = '/mnt/c/Users/dthua/Desktop/project/archive/Medical Speech, Transcription, and Intent/recordings/train/'\n",
    "test_dir = '/mnt/c/Users/dthua/Desktop/project/archive/Medical Speech, Transcription, and Intent/recordings/test/'\n",
    "valid_dir = '/mnt/c/Users/dthua/Desktop/project/archive/Medical Speech, Transcription, and Intent/recordings/validate/'"
   ]
  },
  {
   "cell_type": "code",
   "execution_count": 6,
   "metadata": {},
   "outputs": [],
   "source": [
    "new_train = '/mnt/c/Users/dthua/Desktop/project/archive/converted_audios/train/'\n",
    "new_test = '/mnt/c/Users/dthua/Desktop/project/archive/converted_audios/test/'\n",
    "new_valid = '/mnt/c/Users/dthua/Desktop/project/archive/converted_audios/valid/'"
   ]
  },
  {
   "cell_type": "code",
   "execution_count": 7,
   "metadata": {},
   "outputs": [],
   "source": [
    "def downsample(ori_dir,new_dir):\n",
    "    wav_list = glob.glob(ori_dir+'*.wav')\n",
    "    file_list = wav_list.copy()\n",
    "    file_list = [i.replace(ori_dir,new_dir) for i in file_list]\n",
    "    for i in range(len(wav_list)):\n",
    "        print(f'{i} out of {len(wav_list)} completed')\n",
    "        y,sr = librosa.load(wav_list[i],sr = 16000,mono=True)\n",
    "        soundfile.write(file_list[i],y,sr)"
   ]
  },
  {
   "cell_type": "code",
   "execution_count": 8,
   "metadata": {
    "scrolled": true
   },
   "outputs": [],
   "source": [
    "# downsample(train_dir,new_train)\n",
    "# downsample(valid_dir,new_valid)\n",
    "# downsample(test_dir,new_test)"
   ]
  },
  {
   "cell_type": "code",
   "execution_count": 11,
   "metadata": {},
   "outputs": [
    {
     "name": "stdout",
     "output_type": "stream",
     "text": [
      "2021-03-31 23:13:47.642296: W tensorflow/stream_executor/platform/default/dso_loader.cc:59] Could not load dynamic library 'libcudart.so.10.1'; dlerror: libcudart.so.10.1: cannot open shared object file: No such file or directory\n",
      "2021-03-31 23:13:47.642833: I tensorflow/stream_executor/cuda/cudart_stub.cc:29] Ignore above cudart dlerror if you do not have a GPU set up on your machine.\n",
      "Loading model from file /mnt/c/Users/dthua/Desktop/project/backend/models/deepspeech-0.9.3-models.pbmm\n",
      "TensorFlow: v2.3.0-6-g23ad988\n",
      "DeepSpeech: v0.9.3-0-gf2e9c85\n",
      "2021-03-31 23:13:47.841986: I tensorflow/core/platform/cpu_feature_guard.cc:142] This TensorFlow binary is optimized with oneAPI Deep Neural Network Library (oneDNN)to use the following CPU instructions in performance-critical operations:  AVX2 FMA\n",
      "To enable them in other operations, rebuild TensorFlow with the appropriate compiler flags.\n",
      "2021-03-31 23:13:47.850579: I tensorflow/stream_executor/platform/default/dso_loader.cc:48] Successfully opened dynamic library libcuda.so.1\n",
      "2021-03-31 23:13:47.868819: E tensorflow/stream_executor/cuda/cuda_gpu_executor.cc:968] could not open file to read NUMA node: /sys/bus/pci/devices/0000:01:00.0/numa_node\n",
      "Your kernel may have been built without NUMA support.\n",
      "2021-03-31 23:13:47.869156: I tensorflow/core/common_runtime/gpu/gpu_device.cc:1716] Found device 0 with properties: \n",
      "pciBusID: 0000:01:00.0 name: NVIDIA GeForce GTX 1070 computeCapability: 6.1\n",
      "coreClock: 1.835GHz coreCount: 15 deviceMemorySize: 8.00GiB deviceMemoryBandwidth: 238.66GiB/s\n",
      "2021-03-31 23:13:47.869269: W tensorflow/stream_executor/platform/default/dso_loader.cc:59] Could not load dynamic library 'libcudart.so.10.1'; dlerror: libcudart.so.10.1: cannot open shared object file: No such file or directory\n",
      "2021-03-31 23:13:47.869330: W tensorflow/stream_executor/platform/default/dso_loader.cc:59] Could not load dynamic library 'libcublas.so.10'; dlerror: libcublas.so.10: cannot open shared object file: No such file or directory\n",
      "2021-03-31 23:13:47.869388: W tensorflow/stream_executor/platform/default/dso_loader.cc:59] Could not load dynamic library 'libcufft.so.10'; dlerror: libcufft.so.10: cannot open shared object file: No such file or directory\n",
      "2021-03-31 23:13:47.869451: W tensorflow/stream_executor/platform/default/dso_loader.cc:59] Could not load dynamic library 'libcurand.so.10'; dlerror: libcurand.so.10: cannot open shared object file: No such file or directory\n",
      "2021-03-31 23:13:47.869528: W tensorflow/stream_executor/platform/default/dso_loader.cc:59] Could not load dynamic library 'libcusolver.so.10'; dlerror: libcusolver.so.10: cannot open shared object file: No such file or directory\n",
      "2021-03-31 23:13:47.869589: W tensorflow/stream_executor/platform/default/dso_loader.cc:59] Could not load dynamic library 'libcusparse.so.10'; dlerror: libcusparse.so.10: cannot open shared object file: No such file or directory\n",
      "2021-03-31 23:13:47.877304: I tensorflow/stream_executor/platform/default/dso_loader.cc:48] Successfully opened dynamic library libcudnn.so.7\n",
      "2021-03-31 23:13:47.877367: W tensorflow/core/common_runtime/gpu/gpu_device.cc:1753] Cannot dlopen some GPU libraries. Please make sure the missing libraries mentioned above are installed properly if you would like to use GPU. Follow the guide at https://www.tensorflow.org/install/gpu for how to download and setup the required libraries for your platform.\n",
      "Skipping registering GPU devices...\n",
      "2021-03-31 23:13:48.019644: I tensorflow/core/common_runtime/gpu/gpu_device.cc:1257] Device interconnect StreamExecutor with strength 1 edge matrix:\n",
      "2021-03-31 23:13:48.019684: I tensorflow/core/common_runtime/gpu/gpu_device.cc:1263]      0 \n",
      "2021-03-31 23:13:48.019709: I tensorflow/core/common_runtime/gpu/gpu_device.cc:1276] 0:   N \n",
      "Loaded model in 0.232s.\n",
      "Loading scorer from files /mnt/c/Users/dthua/Desktop/project/backend/models/deepspeech-0.9.3-models.scorer\n",
      "Loaded scorer in 0.038s.\n",
      "Running inference.\n",
      "my nose is congested all the time and there's this glory secretion in my throat that makes it impossible for me to sleep i often have to capsizing down\n",
      "Inference took 22.693s for 11.520s audio file.\n"
     ]
    }
   ],
   "source": [
    "!deepspeech --model /mnt/c/Users/dthua/Desktop/project/backend/models/deepspeech-0.9.3-models.pbmm \\\n",
    "            --score /mnt/c/Users/dthua/Desktop/project/backend/models/deepspeech-0.9.3-models.scorer\\\n",
    "            --audio //mnt/c/Users/dthua/Desktop/project/archive/converted_audios/test/1249120_42082009_86220087.wav"
   ]
  },
  {
   "cell_type": "code",
   "execution_count": null,
   "metadata": {},
   "outputs": [],
   "source": []
  }
 ],
 "metadata": {
  "kernelspec": {
   "display_name": "Python 3",
   "language": "python",
   "name": "python3"
  },
  "language_info": {
   "codemirror_mode": {
    "name": "ipython",
    "version": 3
   },
   "file_extension": ".py",
   "mimetype": "text/x-python",
   "name": "python",
   "nbconvert_exporter": "python",
   "pygments_lexer": "ipython3",
   "version": "3.6.9"
  }
 },
 "nbformat": 4,
 "nbformat_minor": 2
}
