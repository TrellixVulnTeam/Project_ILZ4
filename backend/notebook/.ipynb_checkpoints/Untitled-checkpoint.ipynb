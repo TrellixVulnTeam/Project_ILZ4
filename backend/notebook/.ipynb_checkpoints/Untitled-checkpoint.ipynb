{
 "cells": [
  {
   "cell_type": "code",
   "execution_count": 16,
   "metadata": {},
   "outputs": [],
   "source": [
    "import os\n",
    "import pandas as pd\n",
    "import re"
   ]
  },
  {
   "cell_type": "code",
   "execution_count": 28,
   "metadata": {},
   "outputs": [],
   "source": [
    "def path_correction(df,cwd):\n",
    "    df['wav_filename'] = df['wav_filename'].apply(lambda x:re.sub('^(.*)(?=train|valid|test)',\"\", x))\n",
    "    df['wav_filename'] = df['wav_filename'].apply(lambda x:cwd+x)\n",
    "    return df;\n",
    "\n",
    "def editing_csv():\n",
    "    cwd = os.getcwd()\n",
    "    df_training = pd.read_csv('audios/train.csv')\n",
    "    df_dev = pd.read_csv('audios/valid.csv')\n",
    "    df_test = pd.read_csv('audios/test.csv')\n",
    "\n",
    "    path_correction(df_training,cwd).to_csv('audios/train.csv',index = False,sep=',', encoding='utf-8')\n",
    "    path_correction(df_dev,cwd).to_csv('audios/valid.csv',index = False,sep=',', encoding='utf-8')\n",
    "    path_correction(df_test,cwd).to_csv('audios/test.csv',index = False,sep=',', encoding='utf-8')"
   ]
  },
  {
   "cell_type": "code",
   "execution_count": 29,
   "metadata": {},
   "outputs": [],
   "source": [
    "editing_csv()"
   ]
  },
  {
   "cell_type": "code",
   "execution_count": 12,
   "metadata": {},
   "outputs": [],
   "source": [
    "df_training = pd.read_csv('audios/train.csv')"
   ]
  },
  {
   "cell_type": "code",
   "execution_count": 15,
   "metadata": {},
   "outputs": [
    {
     "data": {
      "text/plain": [
       "0      /mnt/c/Users/dthua/Desktop/project/archive/con...\n",
       "1      /mnt/c/Users/dthua/Desktop/project/archive/con...\n",
       "2      /mnt/c/Users/dthua/Desktop/project/archive/con...\n",
       "3      /mnt/c/Users/dthua/Desktop/project/archive/con...\n",
       "4      /mnt/c/Users/dthua/Desktop/project/archive/con...\n",
       "                             ...                        \n",
       "376    /mnt/c/Users/dthua/Desktop/project/archive/con...\n",
       "377    /mnt/c/Users/dthua/Desktop/project/archive/con...\n",
       "378    /mnt/c/Users/dthua/Desktop/project/archive/con...\n",
       "379    /mnt/c/Users/dthua/Desktop/project/archive/con...\n",
       "380    /mnt/c/Users/dthua/Desktop/project/archive/con...\n",
       "Name: wav_filename, Length: 381, dtype: object"
      ]
     },
     "execution_count": 15,
     "metadata": {},
     "output_type": "execute_result"
    }
   ],
   "source": [
    "df_training['wav_filename']"
   ]
  },
  {
   "cell_type": "code",
   "execution_count": null,
   "metadata": {},
   "outputs": [],
   "source": []
  }
 ],
 "metadata": {
  "kernelspec": {
   "display_name": "Python 3",
   "language": "python",
   "name": "python3"
  },
  "language_info": {
   "codemirror_mode": {
    "name": "ipython",
    "version": 3
   },
   "file_extension": ".py",
   "mimetype": "text/x-python",
   "name": "python",
   "nbconvert_exporter": "python",
   "pygments_lexer": "ipython3",
   "version": "3.6.9"
  }
 },
 "nbformat": 4,
 "nbformat_minor": 2
}
