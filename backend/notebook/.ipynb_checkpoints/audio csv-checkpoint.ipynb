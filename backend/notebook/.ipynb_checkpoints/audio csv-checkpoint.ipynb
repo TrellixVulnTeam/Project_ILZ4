{
 "cells": [
  {
   "cell_type": "code",
   "execution_count": 1,
   "metadata": {},
   "outputs": [],
   "source": [
    "import numpy as np\n",
    "import os\n",
    "import csv\n",
    "import pandas as pd\n",
    "import glob\n",
    "import re"
   ]
  },
  {
   "cell_type": "code",
   "execution_count": 2,
   "metadata": {},
   "outputs": [],
   "source": [
    "train_dir = '/mnt/c/Users/dthua/Desktop/project/archive/converted_audios/train/'\n",
    "test_dir = '/mnt/c/Users/dthua/Desktop/project/archive/converted_audios/test/'\n",
    "valid_dir = '/mnt/c/Users/dthua/Desktop/project/archive/converted_audios/valid/'"
   ]
  },
  {
   "cell_type": "code",
   "execution_count": 3,
   "metadata": {},
   "outputs": [],
   "source": [
    "csv_dir = '/mnt/c/Users/dthua/Desktop/project/archive/'"
   ]
  },
  {
   "cell_type": "code",
   "execution_count": 4,
   "metadata": {
    "scrolled": false
   },
   "outputs": [],
   "source": [
    "#a = !deepspeech --model /mnt/c/Users/dthua/Desktop/project/backend/models/deepspeech-0.9.3-models.pbmm --score /mnt/c/Users/dthua/Desktop/project/backend/models/deepspeech-0.9.3-models.scorer --audio /mnt/c/Users/dthua/Desktop/project/backend/downsampled_file.wav"
   ]
  },
  {
   "cell_type": "markdown",
   "metadata": {},
   "source": [
    "# Loading"
   ]
  },
  {
   "cell_type": "code",
   "execution_count": 7,
   "metadata": {},
   "outputs": [
    {
     "name": "stdout",
     "output_type": "stream",
     "text": [
      "s ektogjspodgjsropiyhgnspwoirhgynppoiejtopigsrjgiohsripogh\n",
      "s;ektogjspodgjsropiyhgnspwoirhgynpPOIEJTOPIGSRJGIOHSRIPOGH\n"
     ]
    }
   ],
   "source": [
    "a = \"s;ektogjspodgjsropiyhgnspwoirhgynpPOIEJTOPIGSRJGIOHSRIPOGH\"\n",
    "\n",
    "print(re.sub(r'[^a-z\\']',' ',a.lower()))\n",
    "print(a)"
   ]
  },
  {
   "cell_type": "code",
   "execution_count": 7,
   "metadata": {},
   "outputs": [],
   "source": [
    "df = pd.read_csv('/mnt/c/Users/dthua/Desktop/project/archive/Medical Speech, Transcription, and Intent/overview-of-recordings.csv')"
   ]
  },
  {
   "cell_type": "code",
   "execution_count": 8,
   "metadata": {},
   "outputs": [],
   "source": [
    "df['phrase'] = df['phrase'].apply(lambda x:re.sub(r'[^a-z\\']',' ',x.lower()))"
   ]
  },
  {
   "cell_type": "code",
   "execution_count": 9,
   "metadata": {},
   "outputs": [
    {
     "name": "stdout",
     "output_type": "stream",
     "text": [
      "0                         when i remember her i feel down\n",
      "1       when i carry heavy things i feel like breaking...\n",
      "2               there is too much pain when i move my arm\n",
      "3       my son had his lip pierced and it is swollen a...\n",
      "4                  my muscles in my lower back are aching\n",
      "                              ...                        \n",
      "6656    i feel a burning sensation in my guts about   ...\n",
      "6657       i have a split on my thumb that will not heal \n",
      "6658                  i feel a lot of pain in the joints \n",
      "6659          the area around my heart doesn't feel good \n",
      "6660                    i complain alot with skin allergy\n",
      "Name: phrase, Length: 6661, dtype: object\n"
     ]
    }
   ],
   "source": [
    "print(df['phrase'])"
   ]
  },
  {
   "cell_type": "code",
   "execution_count": 18,
   "metadata": {},
   "outputs": [],
   "source": [
    "def reformate(train_dir):\n",
    "    wav_list = glob.glob(train_dir+'*.wav')\n",
    "    file_list = wav_list.copy()\n",
    "    file_list = [i.replace(train_dir,'') for i in file_list]\n",
    "    phrase = df.loc[df['file_name'].isin(file_list)][['phrase','file_name']].reset_index(drop=True)\n",
    "    size_list = [os.path.getsize(i) for i in train_dir+phrase['file_name']]\n",
    "    phrase['filesize'] = size_list\n",
    "    phrase['file_name'] = phrase['file_name'].apply(lambda x:train_dir+x)\n",
    "    \n",
    "    phrase = phrase.rename(columns = {\"phrase\":\"transcript\",\"file_name\":\"wav_filename\",\"filesize\":\"wav_filesize\"})\n",
    "    phrase = phrase[['wav_filename','wav_filesize','transcript']]\n",
    "    \n",
    "    return phrase"
   ]
  },
  {
   "cell_type": "code",
   "execution_count": 10,
   "metadata": {},
   "outputs": [],
   "source": [
    "# reformate(train_dir).to_csv(csv_dir+\"train.csv\", index = False, sep=',', encoding='utf-8')\n",
    "# reformate(test_dir).to_csv(csv_dir+\"test.csv\", index = False, sep=',', encoding='utf-8')\n",
    "# reformate(valid_dir).to_csv(csv_dir+\"valid.csv\", index = False, sep=',', encoding='utf-8')"
   ]
  },
  {
   "cell_type": "code",
   "execution_count": 11,
   "metadata": {},
   "outputs": [],
   "source": [
    "os.chdir('/mnt/c/Users/dthua/Desktop/project/DeepSpeech/')"
   ]
  },
  {
   "cell_type": "code",
   "execution_count": 13,
   "metadata": {},
   "outputs": [
    {
     "name": "stdout",
     "output_type": "stream",
     "text": [
      "I Could not find best validating checkpoint.\n",
      "I Loading most recent checkpoint from /home/jia/.local/share/deepspeech/checkpoints/train-381\n",
      "I Loading variable from checkpoint: beta1_power\n",
      "I Loading variable from checkpoint: beta2_power\n",
      "I Loading variable from checkpoint: cudnn_lstm/rnn/multi_rnn_cell/cell_0/cudnn_compatible_lstm_cell/bias\n",
      "I Loading variable from checkpoint: cudnn_lstm/rnn/multi_rnn_cell/cell_0/cudnn_compatible_lstm_cell/bias/Adam\n",
      "I Loading variable from checkpoint: cudnn_lstm/rnn/multi_rnn_cell/cell_0/cudnn_compatible_lstm_cell/bias/Adam_1\n",
      "I Loading variable from checkpoint: cudnn_lstm/rnn/multi_rnn_cell/cell_0/cudnn_compatible_lstm_cell/kernel\n",
      "I Loading variable from checkpoint: cudnn_lstm/rnn/multi_rnn_cell/cell_0/cudnn_compatible_lstm_cell/kernel/Adam\n",
      "I Loading variable from checkpoint: cudnn_lstm/rnn/multi_rnn_cell/cell_0/cudnn_compatible_lstm_cell/kernel/Adam_1\n",
      "I Loading variable from checkpoint: global_step\n",
      "I Loading variable from checkpoint: layer_1/bias\n",
      "I Loading variable from checkpoint: layer_1/bias/Adam\n",
      "I Loading variable from checkpoint: layer_1/bias/Adam_1\n",
      "I Loading variable from checkpoint: layer_1/weights\n",
      "I Loading variable from checkpoint: layer_1/weights/Adam\n",
      "I Loading variable from checkpoint: layer_1/weights/Adam_1\n",
      "I Loading variable from checkpoint: layer_2/bias\n",
      "I Loading variable from checkpoint: layer_2/bias/Adam\n",
      "I Loading variable from checkpoint: layer_2/bias/Adam_1\n",
      "I Loading variable from checkpoint: layer_2/weights\n",
      "I Loading variable from checkpoint: layer_2/weights/Adam\n",
      "I Loading variable from checkpoint: layer_2/weights/Adam_1\n",
      "I Loading variable from checkpoint: layer_3/bias\n",
      "I Loading variable from checkpoint: layer_3/bias/Adam\n",
      "I Loading variable from checkpoint: layer_3/bias/Adam_1\n",
      "I Loading variable from checkpoint: layer_3/weights\n",
      "I Loading variable from checkpoint: layer_3/weights/Adam\n",
      "I Loading variable from checkpoint: layer_3/weights/Adam_1\n",
      "I Loading variable from checkpoint: layer_5/bias\n",
      "I Loading variable from checkpoint: layer_5/bias/Adam\n",
      "I Loading variable from checkpoint: layer_5/bias/Adam_1\n",
      "I Loading variable from checkpoint: layer_5/weights\n",
      "I Loading variable from checkpoint: layer_5/weights/Adam\n",
      "I Loading variable from checkpoint: layer_5/weights/Adam_1\n",
      "I Loading variable from checkpoint: layer_6/bias\n",
      "I Loading variable from checkpoint: layer_6/bias/Adam\n",
      "I Loading variable from checkpoint: layer_6/bias/Adam_1\n",
      "I Loading variable from checkpoint: layer_6/weights\n",
      "I Loading variable from checkpoint: layer_6/weights/Adam\n",
      "I Loading variable from checkpoint: layer_6/weights/Adam_1\n",
      "I Loading variable from checkpoint: learning_rate\n",
      "I STARTING Optimization\n",
      "Epoch 0 |   Training | Elapsed Time: 0:04:49 | Steps: 381 | Loss: 203.327953   \n",
      "Epoch 0 | Validation | Elapsed Time: 0:01:08 | Steps: 385 | Loss: 201.390462 | Dataset: /mnt/c/Users/dthua/Desktop/project/archive/valid.csv\n",
      "I Saved new best validating model with loss 201.390462 to: /home/jia/.local/share/deepspeech/checkpoints/best_dev-762\n",
      "--------------------------------------------------------------------------------\n",
      "Epoch 1 |   Training | Elapsed Time: 0:04:47 | Steps: 381 | Loss: 195.146771   \n",
      "Epoch 1 | Validation | Elapsed Time: 0:01:09 | Steps: 385 | Loss: 226.849609 | Dataset: /mnt/c/Users/dthua/Desktop/project/archive/valid.csv\n",
      "--------------------------------------------------------------------------------\n",
      "Epoch 2 |   Training | Elapsed Time: 0:04:53 | Steps: 381 | Loss: 192.016373   \n",
      "Epoch 2 | Validation | Elapsed Time: 0:01:10 | Steps: 385 | Loss: 214.159086 | Dataset: /mnt/c/Users/dthua/Desktop/project/archive/valid.csv\n",
      "--------------------------------------------------------------------------------\n",
      "I FINISHED optimization in 0:18:02.670449\n",
      "I Loading best validating checkpoint from /home/jia/.local/share/deepspeech/checkpoints/best_dev-762\n",
      "I Loading variable from checkpoint: cudnn_lstm/rnn/multi_rnn_cell/cell_0/cudnn_compatible_lstm_cell/bias\n",
      "I Loading variable from checkpoint: cudnn_lstm/rnn/multi_rnn_cell/cell_0/cudnn_compatible_lstm_cell/kernel\n",
      "I Loading variable from checkpoint: global_step\n",
      "I Loading variable from checkpoint: layer_1/bias\n",
      "I Loading variable from checkpoint: layer_1/weights\n",
      "I Loading variable from checkpoint: layer_2/bias\n",
      "I Loading variable from checkpoint: layer_2/weights\n",
      "I Loading variable from checkpoint: layer_3/bias\n",
      "I Loading variable from checkpoint: layer_3/weights\n",
      "I Loading variable from checkpoint: layer_5/bias\n",
      "I Loading variable from checkpoint: layer_5/weights\n",
      "I Loading variable from checkpoint: layer_6/bias\n",
      "I Loading variable from checkpoint: layer_6/weights\n",
      "Testing model on /mnt/c/Users/dthua/Desktop/project/archive/test.csv\n",
      "Test epoch | Steps: 2 | Elapsed Time: 0:00:00                                  Traceback (most recent call last):\n",
      "  File \"/home/jia/.local/lib/python3.6/site-packages/tensorflow_core/python/client/session.py\", line 1365, in _do_call\n",
      "    return fn(*args)\n",
      "  File \"/home/jia/.local/lib/python3.6/site-packages/tensorflow_core/python/client/session.py\", line 1350, in _run_fn\n",
      "    target_list, run_metadata)\n",
      "  File \"/home/jia/.local/lib/python3.6/site-packages/tensorflow_core/python/client/session.py\", line 1443, in _call_tf_sessionrun\n",
      "    run_metadata)\n",
      "tensorflow.python.framework.errors_impl.InvalidArgumentError: Not enough time for target transition sequence (required: 68, available: 46)0You can turn this error into a warning by using the flag ignore_longer_outputs_than_inputs\n",
      "\t [[{{node CTCLoss}}]]\n",
      "\n",
      "During handling of the above exception, another exception occurred:\n",
      "\n",
      "Traceback (most recent call last):\n",
      "  File \"DeepSpeech.py\", line 12, in <module>\n",
      "    ds_train.run_script()\n",
      "  File \"/mnt/c/Users/dthua/Desktop/project/DeepSpeech/training/deepspeech_training/train.py\", line 982, in run_script\n",
      "    absl.app.run(main)\n",
      "  File \"/home/jia/.local/lib/python3.6/site-packages/absl/app.py\", line 303, in run\n",
      "    _run_main(main, args)\n",
      "  File \"/home/jia/.local/lib/python3.6/site-packages/absl/app.py\", line 251, in _run_main\n",
      "    sys.exit(main(argv))\n",
      "  File \"/mnt/c/Users/dthua/Desktop/project/DeepSpeech/training/deepspeech_training/train.py\", line 958, in main\n",
      "    test()\n",
      "  File \"/mnt/c/Users/dthua/Desktop/project/DeepSpeech/training/deepspeech_training/train.py\", line 682, in test\n",
      "    samples = evaluate(FLAGS.test_files.split(','), create_model)\n",
      "  File \"/mnt/c/Users/dthua/Desktop/project/DeepSpeech/training/deepspeech_training/evaluate.py\", line 132, in evaluate\n",
      "    samples.extend(run_test(init_op, dataset=csv))\n",
      "  File \"/mnt/c/Users/dthua/Desktop/project/DeepSpeech/training/deepspeech_training/evaluate.py\", line 108, in run_test\n",
      "    session.run([batch_wav_filename, transposed, loss, batch_x_len, batch_y])\n",
      "  File \"/home/jia/.local/lib/python3.6/site-packages/tensorflow_core/python/client/session.py\", line 956, in run\n",
      "    run_metadata_ptr)\n",
      "  File \"/home/jia/.local/lib/python3.6/site-packages/tensorflow_core/python/client/session.py\", line 1180, in _run\n",
      "    feed_dict_tensor, options, run_metadata)\n",
      "  File \"/home/jia/.local/lib/python3.6/site-packages/tensorflow_core/python/client/session.py\", line 1359, in _do_run\n",
      "    run_metadata)\n",
      "  File \"/home/jia/.local/lib/python3.6/site-packages/tensorflow_core/python/client/session.py\", line 1384, in _do_call\n",
      "    raise type(e)(node_def, op, message)\n",
      "tensorflow.python.framework.errors_impl.InvalidArgumentError: Not enough time for target transition sequence (required: 68, available: 46)0You can turn this error into a warning by using the flag ignore_longer_outputs_than_inputs\n",
      "\t [[node CTCLoss (defined at /home/jia/.local/lib/python3.6/site-packages/tensorflow_core/python/framework/ops.py:1748) ]]\n",
      "\n",
      "Original stack trace for 'CTCLoss':\n",
      "  File \"DeepSpeech.py\", line 12, in <module>\n",
      "    ds_train.run_script()\n",
      "  File \"/mnt/c/Users/dthua/Desktop/project/DeepSpeech/training/deepspeech_training/train.py\", line 982, in run_script\n",
      "    absl.app.run(main)\n",
      "  File \"/home/jia/.local/lib/python3.6/site-packages/absl/app.py\", line 303, in run\n",
      "    _run_main(main, args)\n",
      "  File \"/home/jia/.local/lib/python3.6/site-packages/absl/app.py\", line 251, in _run_main\n",
      "    sys.exit(main(argv))\n",
      "  File \"/mnt/c/Users/dthua/Desktop/project/DeepSpeech/training/deepspeech_training/train.py\", line 958, in main\n",
      "    test()\n",
      "  File \"/mnt/c/Users/dthua/Desktop/project/DeepSpeech/training/deepspeech_training/train.py\", line 682, in test\n",
      "    samples = evaluate(FLAGS.test_files.split(','), create_model)\n",
      "  File \"/mnt/c/Users/dthua/Desktop/project/DeepSpeech/training/deepspeech_training/evaluate.py\", line 76, in evaluate\n",
      "    sequence_length=batch_x_len)\n",
      "  File \"/home/jia/.local/lib/python3.6/site-packages/tensorflow_core/python/ops/ctc_ops.py\", line 176, in ctc_loss\n",
      "    ignore_longer_outputs_than_inputs=ignore_longer_outputs_than_inputs)\n",
      "  File \"/home/jia/.local/lib/python3.6/site-packages/tensorflow_core/python/ops/gen_ctc_ops.py\", line 336, in ctc_loss\n",
      "    name=name)\n",
      "  File \"/home/jia/.local/lib/python3.6/site-packages/tensorflow_core/python/framework/op_def_library.py\", line 794, in _apply_op_helper\n",
      "    op_def=op_def)\n",
      "  File \"/home/jia/.local/lib/python3.6/site-packages/tensorflow_core/python/util/deprecation.py\", line 507, in new_func\n",
      "    return func(*args, **kwargs)\n",
      "  File \"/home/jia/.local/lib/python3.6/site-packages/tensorflow_core/python/framework/ops.py\", line 3357, in create_op\n",
      "    attrs, op_def, compute_device)\n",
      "  File \"/home/jia/.local/lib/python3.6/site-packages/tensorflow_core/python/framework/ops.py\", line 3426, in _create_op_internal\n",
      "    op_def=op_def)\n",
      "  File \"/home/jia/.local/lib/python3.6/site-packages/tensorflow_core/python/framework/ops.py\", line 1748, in __init__\n",
      "    self._traceback = tf_stack.extract_stack()\n",
      "\n"
     ]
    }
   ],
   "source": [
    "!python3 DeepSpeech.py --train_files /mnt/c/Users/dthua/Desktop/project/archive/train.csv \\\n",
    "        --dev_files /mnt/c/Users/dthua/Desktop/project/archive/valid.csv \\\n",
    "        --test_files /mnt/c/Users/dthua/Desktop/project/archive/test.csv\\\n",
    "        --epochs 3 \\\n",
    "        --early_stop True \\\n",
    "        --automatic_mixed_precision\n",
    "        "
   ]
  },
  {
   "cell_type": "code",
   "execution_count": 16,
   "metadata": {
    "scrolled": false
   },
   "outputs": [
    {
     "name": "stdout",
     "output_type": "stream",
     "text": [
      "I Loading best validating checkpoint from /home/jia/.local/share/deepspeech/checkpoints/best_dev-762\n",
      "I Loading variable from checkpoint: cudnn_lstm/rnn/multi_rnn_cell/cell_0/cudnn_compatible_lstm_cell/bias\n",
      "I Loading variable from checkpoint: cudnn_lstm/rnn/multi_rnn_cell/cell_0/cudnn_compatible_lstm_cell/kernel\n",
      "I Loading variable from checkpoint: global_step\n",
      "I Loading variable from checkpoint: layer_1/bias\n",
      "I Loading variable from checkpoint: layer_1/weights\n",
      "I Loading variable from checkpoint: layer_2/bias\n",
      "I Loading variable from checkpoint: layer_2/weights\n",
      "I Loading variable from checkpoint: layer_3/bias\n",
      "I Loading variable from checkpoint: layer_3/weights\n",
      "I Loading variable from checkpoint: layer_5/bias\n",
      "I Loading variable from checkpoint: layer_5/weights\n",
      "I Loading variable from checkpoint: layer_6/bias\n",
      "I Loading variable from checkpoint: layer_6/weights\n",
      "Testing model on /mnt/c/Users/dthua/Desktop/project/archive/test.csv\n",
      "Test epoch | Steps: 5895 | Elapsed Time: 3:09:36                               \n",
      "Test on /mnt/c/Users/dthua/Desktop/project/archive/test.csv - WER: 1.000000, CER: 0.912655, loss: 207.531937\n",
      "--------------------------------------------------------------------------------\n",
      "Best WER: \n",
      "--------------------------------------------------------------------------------\n",
      "WER: 1.000000, CER: 0.903226, loss: 628.857849\n",
      " - wav: file:///mnt/c/Users/dthua/Desktop/project/archive/converted_audios/test/1249120_40419625_85259793.wav\n",
      " - src: \"my nose is congested all the time and there's this gluey secretion in my throat that makes it impossible for me to sleep  i often have to nap sitting down \"\n",
      " - res: \" e e e e e e e \"\n",
      "--------------------------------------------------------------------------------\n",
      "WER: 1.000000, CER: 0.916129, loss: 627.331543\n",
      " - wav: file:///mnt/c/Users/dthua/Desktop/project/archive/converted_audios/test/1249120_41203338_72684846.wav\n",
      " - src: \"my nose is congested all the time and there's this gluey secretion in my throat that makes it impossible for me to sleep  i often have to nap sitting down \"\n",
      " - res: \" e e e e e e \"\n",
      "--------------------------------------------------------------------------------\n",
      "WER: 1.000000, CER: 0.916129, loss: 626.809265\n",
      " - wav: file:///mnt/c/Users/dthua/Desktop/project/archive/converted_audios/test/1249120_22345789_91658260.wav\n",
      " - src: \"my nose is congested all the time and there's this gluey secretion in my throat that makes it impossible for me to sleep  i often have to nap sitting down \"\n",
      " - res: \" e e e e e e \"\n",
      "--------------------------------------------------------------------------------\n",
      "WER: 1.000000, CER: 0.916129, loss: 626.162170\n",
      " - wav: file:///mnt/c/Users/dthua/Desktop/project/archive/converted_audios/test/1249120_42082009_86220087.wav\n",
      " - src: \"my nose is congested all the time and there's this gluey secretion in my throat that makes it impossible for me to sleep  i often have to nap sitting down \"\n",
      " - res: \" e e e e e e \"\n",
      "--------------------------------------------------------------------------------\n",
      "WER: 1.000000, CER: 0.929032, loss: 625.526917\n",
      " - wav: file:///mnt/c/Users/dthua/Desktop/project/archive/converted_audios/test/1249120_14353703_65062339.wav\n",
      " - src: \"my nose is congested all the time and there's this gluey secretion in my throat that makes it impossible for me to sleep  i often have to nap sitting down \"\n",
      " - res: \" e e e e e \"\n",
      "--------------------------------------------------------------------------------\n",
      "Median WER: \n",
      "--------------------------------------------------------------------------------\n",
      "WER: 1.000000, CER: 0.936170, loss: 188.339325\n",
      " - wav: file:///mnt/c/Users/dthua/Desktop/project/archive/converted_audios/test/1249120_42210938_88424804.wav\n",
      " - src: \"i feel a sharp pain in the stomach after eating\"\n",
      " - res: \" e \"\n",
      "--------------------------------------------------------------------------------\n",
      "WER: 1.000000, CER: 0.901961, loss: 188.285904\n",
      " - wav: file:///mnt/c/Users/dthua/Desktop/project/archive/converted_audios/test/1249120_18386513_92508953.wav\n",
      " - src: \"oh my heart hurts me i tried to be calm and i can't\"\n",
      " - res: \" e e \"\n",
      "--------------------------------------------------------------------------------\n",
      "WER: 1.000000, CER: 0.897959, loss: 188.238647\n",
      " - wav: file:///mnt/c/Users/dthua/Desktop/project/archive/converted_audios/test/1249120_39142299_49427617.wav\n",
      " - src: \"my knees seem to grind as i go up or down stairs \"\n",
      " - res: \" e e \"\n",
      "--------------------------------------------------------------------------------\n",
      "WER: 1.000000, CER: 0.897959, loss: 188.229263\n",
      " - wav: file:///mnt/c/Users/dthua/Desktop/project/archive/converted_audios/test/1249120_44093933_27012166.wav\n",
      " - src: \"my knees seem to grind as i go up or down stairs \"\n",
      " - res: \" e e \"\n",
      "--------------------------------------------------------------------------------\n",
      "WER: 1.000000, CER: 0.933333, loss: 188.152634\n",
      " - wav: file:///mnt/c/Users/dthua/Desktop/project/archive/converted_audios/test/1249120_21665495_34485860.wav\n",
      " - src: \"i can't walk because i have a great foot ache\"\n",
      " - res: \" e \"\n",
      "--------------------------------------------------------------------------------\n",
      "Worst WER: \n",
      "--------------------------------------------------------------------------------\n",
      "WER: 1.000000, CER: 0.900000, loss: 51.134655\n",
      " - wav: file:///mnt/c/Users/dthua/Desktop/project/archive/converted_audios/test/1249120_41087148_59023832.wav\n",
      " - src: \"i feel sad\"\n",
      " - res: \" \"\n",
      "--------------------------------------------------------------------------------\n",
      "WER: 1.000000, CER: 0.900000, loss: 50.829487\n",
      " - wav: file:///mnt/c/Users/dthua/Desktop/project/archive/converted_audios/test/1249120_43855932_56592055.wav\n",
      " - src: \"i feel sad\"\n",
      " - res: \" \"\n",
      "--------------------------------------------------------------------------------\n",
      "WER: 1.000000, CER: 0.900000, loss: 46.552692\n",
      " - wav: file:///mnt/c/Users/dthua/Desktop/project/archive/converted_audios/test/1249120_43898158_10515634.wav\n",
      " - src: \"i feel sad\"\n",
      " - res: \" \"\n",
      "--------------------------------------------------------------------------------\n",
      "WER: 1.000000, CER: 0.985294, loss: 0.000000\n",
      " - wav: file:///mnt/c/Users/dthua/Desktop/project/archive/converted_audios/test/1249120_39675900_20831554.wav\n",
      " - src: \"i get tired too fast  i can barely put on my clothes in the morning \"\n",
      " - res: \" \"\n",
      "--------------------------------------------------------------------------------\n",
      "WER: 1.000000, CER: 0.985294, loss: 0.000000\n",
      " - wav: file:///mnt/c/Users/dthua/Desktop/project/archive/converted_audios/test/1249120_1853182_24371252.wav\n",
      " - src: \"my knees hurt so bad to walk that i stay sitting more than i should \"\n",
      " - res: \" \"\n",
      "--------------------------------------------------------------------------------\n"
     ]
    }
   ],
   "source": [
    "!python DeepSpeech.py --test_files /mnt/c/Users/dthua/Desktop/project/archive/test.csv"
   ]
  },
  {
   "cell_type": "code",
   "execution_count": null,
   "metadata": {},
   "outputs": [],
   "source": []
  }
 ],
 "metadata": {
  "kernelspec": {
   "display_name": "Python 3",
   "language": "python",
   "name": "python3"
  },
  "language_info": {
   "codemirror_mode": {
    "name": "ipython",
    "version": 3
   },
   "file_extension": ".py",
   "mimetype": "text/x-python",
   "name": "python",
   "nbconvert_exporter": "python",
   "pygments_lexer": "ipython3",
   "version": "3.6.9"
  }
 },
 "nbformat": 4,
 "nbformat_minor": 2
}
